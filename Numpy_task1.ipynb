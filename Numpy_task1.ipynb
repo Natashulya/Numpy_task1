{
 "cells": [
  {
   "cell_type": "code",
   "execution_count": 1,
   "id": "9203b91a",
   "metadata": {},
   "outputs": [],
   "source": [
    "import numpy as np"
   ]
  },
  {
   "cell_type": "code",
   "execution_count": 2,
   "id": "4e5adeb1",
   "metadata": {},
   "outputs": [],
   "source": [
    "#Задание 1"
   ]
  },
  {
   "cell_type": "code",
   "execution_count": 12,
   "id": "d0fd70d1",
   "metadata": {},
   "outputs": [
    {
     "name": "stdout",
     "output_type": "stream",
     "text": [
      "10\n",
      "результат: [9 8 7 6 5 4 3 2 1 0]\n"
     ]
    }
   ],
   "source": [
    "n=int(input())\n",
    "print('результат: {}'.format(np.arange(n-1, -1,-1)))"
   ]
  },
  {
   "cell_type": "code",
   "execution_count": null,
   "id": "149286d6",
   "metadata": {},
   "outputs": [],
   "source": [
    "#Задание 2"
   ]
  },
  {
   "cell_type": "code",
   "execution_count": 13,
   "id": "79fa91e7",
   "metadata": {},
   "outputs": [
    {
     "name": "stdout",
     "output_type": "stream",
     "text": [
      "10\n",
      "сумма: 55\n"
     ]
    }
   ],
   "source": [
    "n=int(input())\n",
    "matrix=np.diag(np.arange(n,0,-1))\n",
    "print('сумма: {}'.format(sum(sum(matrix))))"
   ]
  },
  {
   "cell_type": "code",
   "execution_count": 28,
   "id": "f37fb7bc",
   "metadata": {},
   "outputs": [],
   "source": [
    "#Задание 3 (Решите систему уравнений: 4x + 2y + z = 4 x + 3y = 12 5y + 4z = -3)"
   ]
  },
  {
   "cell_type": "code",
   "execution_count": 81,
   "id": "16b9deae",
   "metadata": {},
   "outputs": [
    {
     "data": {
      "text/plain": [
       "array([ 0.46666667,  3.84444444, -5.55555556])"
      ]
     },
     "execution_count": 81,
     "metadata": {},
     "output_type": "execute_result"
    }
   ],
   "source": [
    "from numpy import linalg\n",
    "a=np.array([[4,2,1],[1,3,0],[0,5,4]])\n",
    "b=np.array([4,12,-3])\n",
    "linalg.solve(a,b)"
   ]
  },
  {
   "cell_type": "code",
   "execution_count": 71,
   "id": "6d2eec43",
   "metadata": {},
   "outputs": [],
   "source": [
    "#Задание 4 Имеется матрица покупок в интернет-магазине. Столбец А - ID пользователя. Остальные столбцы - количество покупок категорий товаров этим пользователем:"
   ]
  },
  {
   "cell_type": "code",
   "execution_count": 73,
   "id": "2a10df7c",
   "metadata": {},
   "outputs": [],
   "source": [
    "users_stats = np.array(\n",
    "    [\n",
    "        [2, 1, 0, 0, 0, 0],\n",
    "        [1, 1, 2, 1, 0, 0],\n",
    "        [2, 0, 1, 0, 0, 0],\n",
    "        [1, 1, 2, 1, 0, 1],\n",
    "        [0, 0, 1, 2, 0, 0],\n",
    "        [0, 0, 0, 0, 0, 5],\n",
    "        [1, 0, 0, 0, 0, 0],\n",
    "        [0, 1, 1, 0, 0, 0],\n",
    "        [0, 0, 0, 1, 1, 3],\n",
    "        [1, 0, 0, 2, 1, 4]\n",
    "    ], \n",
    "    np.int32\n",
    ")"
   ]
  },
  {
   "cell_type": "code",
   "execution_count": 74,
   "id": "2c9c9b9c",
   "metadata": {},
   "outputs": [],
   "source": [
    "next_user_stats = np.array([0, 1, 2, 0, 0, 0])"
   ]
  },
  {
   "cell_type": "code",
   "execution_count": 75,
   "id": "1643a4fe",
   "metadata": {},
   "outputs": [],
   "source": [
    "def cosine( users_stats, next_user_stats ):\n",
    "    # длины векторов\n",
    "    users_stats_Length = np.linalg.norm( users_stats )\n",
    "    next_user_stats_Length = np.linalg.norm( next_user_stats )\n",
    "    \n",
    "    return np.dot( users_stats, next_user_stats ) / ( users_stats_Length * next_user_stats_Length )"
   ]
  },
  {
   "cell_type": "code",
   "execution_count": 76,
   "id": "cdff3fed",
   "metadata": {},
   "outputs": [],
   "source": [
    "muls = np.apply_along_axis(cosine, 1, users_stats, next_user_stats)"
   ]
  },
  {
   "cell_type": "code",
   "execution_count": 80,
   "id": "593a5279",
   "metadata": {},
   "outputs": [],
   "source": [
    "muls = np.array([cosine(row, next_user_stats) for row in users_stats])"
   ]
  },
  {
   "cell_type": "code",
   "execution_count": null,
   "id": "3760bcc5",
   "metadata": {},
   "outputs": [],
   "source": []
  }
 ],
 "metadata": {
  "kernelspec": {
   "display_name": "Python 3",
   "language": "python",
   "name": "python3"
  },
  "language_info": {
   "codemirror_mode": {
    "name": "ipython",
    "version": 3
   },
   "file_extension": ".py",
   "mimetype": "text/x-python",
   "name": "python",
   "nbconvert_exporter": "python",
   "pygments_lexer": "ipython3",
   "version": "3.8.8"
  }
 },
 "nbformat": 4,
 "nbformat_minor": 5
}
